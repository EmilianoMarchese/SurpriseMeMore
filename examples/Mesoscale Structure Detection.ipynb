{
 "cells": [
  {
   "cell_type": "markdown",
   "source": [
    "# Mesoscale Structures Detection"
   ],
   "metadata": {
    "collapsed": false
   }
  },
  {
   "cell_type": "markdown",
   "source": [
    "The scope of this notebook is to provide some examples of how SurpriseMeMore can\n",
    "be used to detect mesoscale structure (e.g. core periphery) in binary\n",
    " and weighted network. We use the undirected *les miserables* character network\n",
    " in the next examples, but all the applications\n",
    " that we are going to see can be generalized to the case of directed networks."
   ],
   "metadata": {
    "collapsed": false
   }
  },
  {
   "cell_type": "markdown",
   "source": [
    "### Important\n",
    "\n",
    "All the methods we present are heuristic, we suggest then to run it more than once\n",
    "to increase the chance to find the best partitioning. The methods usually find the\n",
    "best solution without running it too many times."
   ],
   "metadata": {
    "collapsed": false
   }
  },
  {
   "cell_type": "code",
   "source": [
    "from surprisememore import Undirected_Graph_Class as ug\n",
    "import numpy as np\n",
    "import networkx as nx\n",
    "import pandas as pd\n",
    "\n",
    "aux_path = 'out.moreno_lesmis_lesmis'\n",
    "prova = np.loadtxt(aux_path,comments='%')\n",
    "edgelist = pd.DataFrame(prova,columns=['source','target','weight'])\n",
    "network = nx.from_pandas_edgelist(edgelist,source='source',target='target',edge_attr=True,create_using=nx.Graph)\n",
    "adjacency_matrix = nx.to_numpy_array(network)"
   ],
   "metadata": {
    "collapsed": false,
    "pycharm": {
     "name": "#%%\n"
    }
   },
   "execution_count": 4,
   "outputs": []
  },
  {
   "cell_type": "markdown",
   "source": [
    "We initialize our SupriseMeMore **UndirectedGraph** object with the adjacency\n",
    "matrix. The available options are adjacency matrix or edgelist. We suggest to\n",
    "use numpy array in both cases."
   ],
   "metadata": {
    "collapsed": false,
    "pycharm": {
     "name": "#%% md\n"
    }
   }
  },
  {
   "cell_type": "markdown",
   "source": [
    "## Basic Usage"
   ],
   "metadata": {
    "collapsed": false
   }
  },
  {
   "cell_type": "code",
   "execution_count": 5,
   "outputs": [],
   "source": [
    "graph = ug.UndirectedGraph(adjacency_matrix)"
   ],
   "metadata": {
    "collapsed": false,
    "pycharm": {
     "name": "#%%\n"
    }
   }
  },
  {
   "cell_type": "markdown",
   "source": [
    "Now that our graph istance is initalized we can run discrete detection of mesoscale\n",
    "structures by tapping the following command."
   ],
   "metadata": {
    "collapsed": false,
    "pycharm": {
     "name": "#%% md\n"
    }
   }
  },
  {
   "cell_type": "code",
   "execution_count": 6,
   "outputs": [
    {
     "name": "stderr",
     "output_type": "stream",
     "text": [
      "100%|██████████| 254/254 [00:00<00:00, 2400.76it/s]\n",
      "100%|██████████| 254/254 [00:00<00:00, 2619.18it/s]"
     ]
    },
    {
     "name": "stdout",
     "output_type": "stream",
     "text": [
      "[1 1 1 1 1 1 1 1 1 1 0 1 1 1 1 1 0 0 0 0 0 1 1 1 1 1 1 1 1 1 1 1 1 0 0 0 0\n",
      " 0 0 0 0 0 1 1 1 1 1 1 1 1 1 1 0 1 1 1 1 1 1 1 1 0 0 1 1 0 0 0 0 0 0 1 1 1\n",
      " 1 1 1]\n",
      "217.99342901379407\n",
      "1.0152452966619884e-218\n"
     ]
    },
    {
     "name": "stderr",
     "output_type": "stream",
     "text": [
      "\n"
     ]
    }
   ],
   "source": [
    "graph.run_discrete_cp_detection()\n",
    "\n",
    "# The optimal partitioning is given by\n",
    "print(graph.solution)\n",
    "# This is a numpy array where the membership of each node is stored. Node with\n",
    "# the same membership are in the same cluster.\n",
    "\n",
    "# The relative logsurprise is\n",
    "print(graph.log_surprise)\n",
    "# and the associated p-value (surprise) is\n",
    "print(graph.surprise)"
   ],
   "metadata": {
    "collapsed": false,
    "pycharm": {
     "name": "#%%\n"
    }
   }
  },
  {
   "cell_type": "markdown",
   "source": [
    "### Important\n",
    "\n",
    "Everytime that you run the algorithm the values *solution*, *log_surprise* and\n",
    "*surprise* are overwritten."
   ],
   "metadata": {
    "collapsed": false
   }
  },
  {
   "cell_type": "markdown",
   "source": [
    "## Mesoscale Detection Arguments"
   ],
   "metadata": {
    "collapsed": false
   }
  },
  {
   "cell_type": "markdown",
   "source": [
    "SurpriseMeMore mesoscale detection methods allow the user to pass arguments\n",
    "specifying some aspects of the optimization process. In what follows we\n",
    "will brifly discuss these options."
   ],
   "metadata": {
    "collapsed": false
   }
  },
  {
   "cell_type": "markdown",
   "source": [
    "### initial_guess\n",
    "\n",
    "The user can pass its own initial guess to the algorithm (pay attention that\n",
    "has to be a proper initial guess) or use one of the implemented one.\n",
    "\n",
    "* *random*: membership is assigned to nodes randomly. If the *method* is aglomerative\n",
    "it doesn't affect the initial guess;\n",
    "\n",
    "* *ranked*: The 5% nodes with higher degree/strength are in the core. We suggest\n",
    " using this option if you are looking for *core-periphery* or *bow-tie structures*.\n",
    "\n",
    "* *eigenvector*: nodes 5% nodes with higher eigenvector centrality are in the core.\n",
    " We suggest using this option if you are looking for *core-periphery* or\n",
    " *bow-tie structures*.\n",
    "\n",
    "The default value is *ranked*."
   ],
   "metadata": {
    "collapsed": false,
    "pycharm": {
     "name": "#%% md\n"
    }
   }
  },
  {
   "cell_type": "markdown",
   "source": [
    "### weighted\n",
    "\n",
    "This argument has to be used when we initialize a UndirectedGraph (DirectedGraph)\n",
    "instance that is weighted. In that case, if we want to run binary mesoscale detection\n",
    "we must specify *weighted*=False.\n",
    "\n",
    "```\n",
    "    graph.run_discrete_cp_detection('weighted'=False)\n",
    "```\n",
    "\n",
    "The above snippet of code run binary mesoscale detection on les miserables graph.\n",
    "\n",
    "The *weighted* argument is just for discrete mesoscale detection methods,\n",
    "in the case of enhanced mesoscale detection there is no binary version of\n",
    "the algorithm.\n",
    "\n",
    "The default value is *None*, the algorithm will choose the proper method for\n",
    "the network:\n",
    "\n",
    "* weighted network --> weighted surprise;\n",
    "\n",
    "* binary netowrk --> binary surprise;"
   ],
   "metadata": {
    "collapsed": false,
    "pycharm": {
     "name": "#%% md\n"
    }
   }
  },
  {
   "cell_type": "markdown",
   "source": [
    "### num_sim\n",
    "\n",
    "Number of times the algorithm will run over all the links trying to improve the\n",
    "partioning. If no improvements are detected for 10 times in a row then the algorithm\n",
    "stops.\n",
    "\n",
    "The default value is 2."
   ],
   "metadata": {
    "collapsed": false
   }
  },
  {
   "cell_type": "markdown",
   "source": [
    "##  Discrete Mesoscale Detection\n"
   ],
   "metadata": {
    "collapsed": false,
    "pycharm": {
     "name": "#%% md\n"
    }
   }
  },
  {
   "cell_type": "markdown",
   "source": [
    "### Binary"
   ],
   "metadata": {
    "collapsed": false,
    "pycharm": {
     "name": "#%% md\n"
    }
   }
  },
  {
   "cell_type": "code",
   "execution_count": 7,
   "outputs": [
    {
     "name": "stderr",
     "output_type": "stream",
     "text": [
      "100%|██████████| 254/254 [00:01<00:00, 159.62it/s]\n",
      "100%|██████████| 254/254 [00:00<00:00, 5079.40it/s]\n",
      "100%|██████████| 254/254 [00:00<00:00, 5146.19it/s]"
     ]
    },
    {
     "name": "stdout",
     "output_type": "stream",
     "text": [
      "The solution is [1 1 1 1 1 1 1 1 1 1 0 1 1 1 1 1 0 0 0 0 0 1 0 1 1 1 0 0 0 0 0 1 1 0 1 1 0\n",
      " 0 0 0 0 0 0 1 0 0 0 0 0 0 0 1 0 1 1 1 1 0 1 1 1 0 0 1 1 0 0 0 0 0 0 1 1 0\n",
      " 1 1 1]\n"
     ]
    },
    {
     "name": "stderr",
     "output_type": "stream",
     "text": [
      "\n"
     ]
    }
   ],
   "source": [
    "# An example of how we can run it\n",
    "graph.run_discrete_cp_detection(weighted=False,\n",
    "                                initial_guess=\"random\",\n",
    "                                num_sim=3)\n",
    "print(\"The solution is\", graph.solution)"
   ],
   "metadata": {
    "collapsed": false,
    "pycharm": {
     "name": "#%%\n"
    }
   }
  },
  {
   "cell_type": "markdown",
   "source": [
    "### Weighted"
   ],
   "metadata": {
    "collapsed": false,
    "pycharm": {
     "name": "#%% md\n"
    }
   }
  },
  {
   "cell_type": "code",
   "execution_count": 8,
   "outputs": [
    {
     "name": "stderr",
     "output_type": "stream",
     "text": [
      "100%|██████████| 254/254 [00:00<00:00, 3496.26it/s]\n",
      "100%|██████████| 254/254 [00:00<00:00, 3920.89it/s]\n",
      "100%|██████████| 254/254 [00:00<00:00, 2977.28it/s]"
     ]
    },
    {
     "name": "stdout",
     "output_type": "stream",
     "text": [
      "The solution is [1 1 1 1 1 1 1 1 1 1 0 1 1 1 1 1 0 0 0 0 0 1 0 1 1 1 0 0 0 0 0 1 1 0 0 0 0\n",
      " 0 0 0 0 0 0 1 0 0 0 0 0 0 0 1 0 1 1 1 1 0 1 1 1 0 0 1 1 0 0 0 0 0 0 1 1 1\n",
      " 1 1 1]\n"
     ]
    },
    {
     "name": "stderr",
     "output_type": "stream",
     "text": [
      "\n"
     ]
    }
   ],
   "source": [
    "# An example of how we can run it\n",
    "graph.run_discrete_cp_detection(weighted=True,\n",
    "                                initial_guess=\"random\",\n",
    "                                num_sim=3)\n",
    "print(\"The solution is\", graph.solution)"
   ],
   "metadata": {
    "collapsed": false,
    "pycharm": {
     "name": "#%%\n"
    }
   }
  },
  {
   "cell_type": "markdown",
   "source": [
    "## Enhanced Mesoscale Detection"
   ],
   "metadata": {
    "collapsed": false,
    "pycharm": {
     "name": "#%% md\n"
    }
   }
  },
  {
   "cell_type": "markdown",
   "source": [
    "For more details about the differences between enhanced methods and discrete ones\n",
    " read the relative paper (you can find the link in the readme)."
   ],
   "metadata": {
    "collapsed": false,
    "pycharm": {
     "name": "#%% md\n"
    }
   }
  },
  {
   "cell_type": "code",
   "execution_count": 10,
   "outputs": [
    {
     "name": "stderr",
     "output_type": "stream",
     "text": [
      "100%|██████████| 254/254 [00:01<00:00, 252.60it/s]\n",
      "100%|██████████| 254/254 [00:00<00:00, 2662.42it/s]\n",
      "100%|██████████| 254/254 [00:00<00:00, 2646.33it/s]\n",
      "100%|██████████| 254/254 [00:00<00:00, 2712.63it/s]\n"
     ]
    },
    {
     "name": "stdout",
     "output_type": "stream",
     "text": [
      "The solution is [1 1 1 1 1 1 1 1 1 1 0 1 1 1 1 1 0 0 0 0 0 1 1 1 1 1 1 1 1 1 1 1 1 0 0 0 0\n",
      " 0 0 1 1 1 1 1 1 1 1 1 1 1 1 1 0 1 1 1 1 1 1 1 1 0 0 1 1 0 0 0 0 0 0 1 1 1\n",
      " 1 1 1]\n"
     ]
    }
   ],
   "source": [
    "# An example of how we can run it\n",
    "graph.run_enhanced_cp_detection(initial_guess=\"eigenvector\",\n",
    "                                num_sim=4)\n",
    "print(\"The solution is\", graph.solution)"
   ],
   "metadata": {
    "collapsed": false,
    "pycharm": {
     "name": "#%%\n"
    }
   }
  },
  {
   "cell_type": "code",
   "execution_count": null,
   "outputs": [],
   "source": [],
   "metadata": {
    "collapsed": false,
    "pycharm": {
     "name": "#%%\n"
    }
   }
  }
 ],
 "metadata": {
  "kernelspec": {
   "display_name": "Python 3",
   "language": "python",
   "name": "python3"
  },
  "language_info": {
   "codemirror_mode": {
    "name": "ipython",
    "version": 2
   },
   "file_extension": ".py",
   "mimetype": "text/x-python",
   "name": "python",
   "nbconvert_exporter": "python",
   "pygments_lexer": "ipython2",
   "version": "2.7.6"
  }
 },
 "nbformat": 4,
 "nbformat_minor": 0
}