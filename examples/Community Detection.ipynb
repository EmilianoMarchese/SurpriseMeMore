{
 "cells": [
  {
   "cell_type": "markdown",
   "source": [
    "# Community Detection"
   ],
   "metadata": {
    "collapsed": false
   }
  },
  {
   "cell_type": "markdown",
   "metadata": {
    "collapsed": true,
    "pycharm": {
     "name": "#%% md\n"
    }
   },
   "source": [
    "The scope of this notebook is to provide some examples of how SurpriseMeMore can\n",
    "be used to detect communities in binary and weighted network. We use the undirected\n",
    "*les miserables* character network in the next examples, but all the applications\n",
    " that we are going to see can be generalized to the case of directed networks."
   ]
  },
  {
   "cell_type": "markdown",
   "source": [
    "### Important\n",
    "\n",
    "All the methods we present are heuristic, we suggest then to run it more than once\n",
    "to increase the chance to find the best partitioning."
   ],
   "metadata": {
    "collapsed": false
   }
  },
  {
   "cell_type": "code",
   "source": [
    "from surprisememore import Undirected_Graph_Class as ug\n",
    "import numpy as np\n",
    "import networkx as nx\n",
    "import pandas as pd\n",
    "\n",
    "aux_path = 'out.moreno_lesmis_lesmis'\n",
    "prova = np.loadtxt(aux_path,comments='%')\n",
    "edgelist = pd.DataFrame(prova,columns=['source','target','weight'])\n",
    "network = nx.from_pandas_edgelist(edgelist,source='source',target='target',edge_attr=True,create_using=nx.Graph)\n",
    "adjacency_matrix = nx.to_numpy_array(network)"
   ],
   "metadata": {
    "collapsed": false,
    "pycharm": {
     "name": "#%%\n"
    }
   },
   "execution_count": 8,
   "outputs": []
  },
  {
   "cell_type": "markdown",
   "source": [
    "We initialize our SupriseMeMore **UndirectedGraph** object with the adjacency\n",
    "matrix. The available options are adjacency matrix or edgelist. We suggest to\n",
    "use numpy array in both cases."
   ],
   "metadata": {
    "collapsed": false,
    "pycharm": {
     "name": "#%% md\n"
    }
   }
  },
  {
   "cell_type": "markdown",
   "source": [
    "## Basic Usage"
   ],
   "metadata": {
    "collapsed": false
   }
  },
  {
   "cell_type": "code",
   "execution_count": 9,
   "outputs": [],
   "source": [
    "graph = ug.UndirectedGraph(adjacency_matrix)"
   ],
   "metadata": {
    "collapsed": false,
    "pycharm": {
     "name": "#%%\n"
    }
   }
  },
  {
   "cell_type": "markdown",
   "source": [
    "Now that our graph istance is initalized we can run discrete community\n",
    "detection by tapping the following command."
   ],
   "metadata": {
    "collapsed": false,
    "pycharm": {
     "name": "#%% md\n"
    }
   }
  },
  {
   "cell_type": "code",
   "execution_count": 12,
   "outputs": [
    {
     "name": "stderr",
     "output_type": "stream",
     "text": [
      "100%|██████████| 254/254 [00:00<00:00, 14570.93it/s]\n",
      "100%|██████████| 254/254 [00:00<00:00, 30605.68it/s]"
     ]
    },
    {
     "name": "stdout",
     "output_type": "stream",
     "text": [
      "[17  4  4  4 14 15 16  4  4 11  0 19 20 18 21 22  2  1  1  0  0  5  3  8\n",
      " 12 10  3  3  3  3  3 13  5  0  0  0  0  0  0  1  1  1  1 28  2  2  2  2\n",
      "  2  2  2  8  1  1  1  9 27  1 26  5  9  0  0  6  6  0  0  0  0  0  0  7\n",
      "  7 24 25 23 29]\n",
      "349.86182922756353\n",
      "0.0\n"
     ]
    },
    {
     "name": "stderr",
     "output_type": "stream",
     "text": [
      "\n"
     ]
    }
   ],
   "source": [
    "graph.run_discrete_community_detection()\n",
    "\n",
    "# The optimal partitioning is given by\n",
    "print(graph.solution)\n",
    "# This is a numpy array where the membership of each node is stored. Node with\n",
    "# the same membership are in the same cluster.\n",
    "\n",
    "# The relative logsurprise is\n",
    "print(graph.log_surprise)\n",
    "# and the associated p-value (surprise) is\n",
    "print(graph.surprise)"
   ],
   "metadata": {
    "collapsed": false,
    "pycharm": {
     "name": "#%%\n"
    }
   }
  },
  {
   "cell_type": "markdown",
   "source": [
    "### Important\n",
    "\n",
    "Everytime that you run the algorithm the values *solution*, *log_surprise* and\n",
    "*surprise* are overwritten."
   ],
   "metadata": {
    "collapsed": false
   }
  },
  {
   "cell_type": "markdown",
   "source": [
    "## Community Detection Arguments"
   ],
   "metadata": {
    "collapsed": false
   }
  },
  {
   "cell_type": "markdown",
   "source": [
    "SurpriseMeMore community detection methods allow the user to pass arguments\n",
    "specifying the used method to use and other useful options. In what follows we\n",
    "will brifly discuss these options."
   ],
   "metadata": {
    "collapsed": false
   }
  },
  {
   "cell_type": "markdown",
   "source": [
    "### method\n",
    "\n",
    "First we can specify the clustering method: **aglomerative** or **fixed-clusters**.\n",
    "\n",
    "**Aglomerative** method starts with all the nodes in different partitions and then start\n",
    "to merge these until no further improvements are possible.\n",
    "\n",
    "**Fixed-clusters** solves the partioning problem with a fixed number of clusters\n",
    "(defined by the user). If *fixed-clusters* is passed, the number of cluster argument\n",
    " (*num_clusters*) must be specified.\n",
    "\n",
    "The default value is *aglomerative*."
   ],
   "metadata": {
    "collapsed": false,
    "pycharm": {
     "name": "#%% md\n"
    }
   }
  },
  {
   "cell_type": "markdown",
   "source": [
    "### initial_guess\n",
    "\n",
    "The user can pass its own initial guess to the algorithm (pay attention that\n",
    "has to be a proper initial guess) or use one of the implemented one.\n",
    "\n",
    "* *random*: membership is assigned to nodes randomly. If the *method* is aglomerative\n",
    "it doesn't affect the initial guess;\n",
    "\n",
    "* *common-neigh-weak*: nodes are in the same initial partition based on the fraction\n",
    "of common-neighbours. The condtion of aggregation is more relaxed.\n",
    "\n",
    "* *common-neigh-strong*: nodes are in the same initial partition based on the fraction\n",
    "of common-neighbours. The condtion of aggregation is more strictly.\n",
    "\n",
    "The default value is *random*."
   ],
   "metadata": {
    "collapsed": false,
    "pycharm": {
     "name": "#%% md\n"
    }
   }
  },
  {
   "cell_type": "markdown",
   "source": [
    "### weighted\n",
    "\n",
    "This argument has to be used when we initialize a UndirectedGraph (DirectedGraph)\n",
    "instance that is weighted. In that case, if we want to run binary community detection\n",
    "we must specify *weighted*=False.\n",
    "\n",
    "```\n",
    "    graph.run_discrete_community_detection('weighted'=False)\n",
    "```\n",
    "\n",
    "The above snippet of code run binary community detection on les miserables graph.\n",
    "\n",
    "The *weighted* argument is just for discrete community detection methods,\n",
    "in the case of enhanced or continuous community detection there is no binary\n",
    "version of the algorithm.\n",
    "\n",
    "The default value is *None*, the algorithm will choose the proper method for\n",
    "the network:\n",
    "\n",
    "* weighted network --> weighted surprise;\n",
    "\n",
    "* binary netowrk --> binary surprise;"
   ],
   "metadata": {
    "collapsed": false,
    "pycharm": {
     "name": "#%% md\n"
    }
   }
  },
  {
   "cell_type": "markdown",
   "source": [
    "### num_sim\n",
    "\n",
    "Number of times the algorithm will run over all the links trying to improve the\n",
    "partioning. If no improvements are detected for 10 times in a row then the algorithm\n",
    "stops.\n",
    "\n",
    "The default value is 2."
   ],
   "metadata": {
    "collapsed": false
   }
  },
  {
   "cell_type": "markdown",
   "source": [
    "##  Discrete Community Detection"
   ],
   "metadata": {
    "collapsed": false,
    "pycharm": {
     "name": "#%% md\n"
    }
   }
  },
  {
   "cell_type": "markdown",
   "source": [
    "### Binary"
   ],
   "metadata": {
    "collapsed": false,
    "pycharm": {
     "name": "#%% md\n"
    }
   }
  },
  {
   "cell_type": "code",
   "execution_count": 14,
   "outputs": [
    {
     "name": "stderr",
     "output_type": "stream",
     "text": [
      "100%|██████████| 254/254 [00:00<00:00, 22463.96it/s]\n",
      "100%|██████████| 254/254 [00:00<00:00, 44629.60it/s]\n",
      "100%|██████████| 254/254 [00:00<00:00, 48051.65it/s]\n",
      "100%|██████████| 254/254 [00:00<00:00, 8280.96it/s]\n",
      "100%|██████████| 254/254 [00:00<00:00, 7845.83it/s]\n",
      "100%|██████████| 254/254 [00:00<00:00, 8074.04it/s]"
     ]
    },
    {
     "name": "stdout",
     "output_type": "stream",
     "text": [
      "Aglomerative solution [16  5  5  5 13 18 19 20 21  5  3 17 23  8  3  8  2  1  1  4  1  6  3 12\n",
      " 15 14  3  3  3  3  3  7  6  0  4  4  0  0  0  1  1  1  1  7  2  2  2  2\n",
      "  2  2  2 12  1  1 22 10 25  1  4  6 10  0  0  9  9  0  0  0  0  0  0 11\n",
      " 11  0 24  4 26]\n",
      "Fixed clusters solution [0 1 1 2 2 0 0 0 3 2 0 3 3 2 3 1 1 1 0 0 0 1 0 1 0 1 0 0 1 3 2 2 3 0 0 1 0\n",
      " 1 3 1 0 3 1 2 1 1 2 0 0 0 1 1 0 0 2 0 2 2 0 3 2 1 2 3 1 1 0 1 1 0 0 3 2 1\n",
      " 2 0 2]\n"
     ]
    },
    {
     "name": "stderr",
     "output_type": "stream",
     "text": [
      "\n"
     ]
    }
   ],
   "source": [
    "# An example of how we can run it\n",
    "graph.run_discrete_community_detection(weighted=False,\n",
    "                                       initial_guess=\"random\",\n",
    "                                       num_sim=3)\n",
    "print(\"Aglomerative solution\", graph.solution)\n",
    "\n",
    "# for the fixed clusters one\n",
    "graph.run_discrete_community_detection(method=\"fixed-clusters\",\n",
    "                                       num_clusters=4,\n",
    "                                       weighted=False,\n",
    "                                       initial_guess=\"random\",\n",
    "                                       num_sim=3)\n",
    "print(\"Fixed clusters solution\", graph.solution)"
   ],
   "metadata": {
    "collapsed": false,
    "pycharm": {
     "name": "#%%\n"
    }
   }
  },
  {
   "cell_type": "markdown",
   "source": [
    "### Weighted"
   ],
   "metadata": {
    "collapsed": false,
    "pycharm": {
     "name": "#%% md\n"
    }
   }
  },
  {
   "cell_type": "code",
   "execution_count": 7,
   "outputs": [],
   "source": [
    "# An example of how we can run it\n",
    "graph.run_discrete_community_detection(weighted=True,\n",
    "                                       initial_guess=\"random\",\n",
    "                                       num_sim=3)\n",
    "print(\"Aglomerative solution\", graph.solution)\n",
    "# for the fixed clusters one\n",
    "graph.run_discrete_community_detection(method=\"fixed-clusters\",\n",
    "                                       num_clusters=3,\n",
    "                                       weighted=True,\n",
    "                                       initial_guess=\"random\",\n",
    "                                       num_sim=3)\n",
    "print(\"Fixed clusters solution\", graph.solution)"
   ],
   "metadata": {
    "collapsed": false,
    "pycharm": {
     "name": "#%%\n"
    }
   }
  },
  {
   "cell_type": "markdown",
   "source": [
    "## Enhanced Community Detection"
   ],
   "metadata": {
    "collapsed": false,
    "pycharm": {
     "name": "#%% md\n"
    }
   }
  },
  {
   "cell_type": "markdown",
   "source": [
    "For more details about the differences between enhanced methods and discrete one\n",
    " read the relative paper (you can find the link in the readme)."
   ],
   "metadata": {
    "collapsed": false,
    "pycharm": {
     "name": "#%% md\n"
    }
   }
  },
  {
   "cell_type": "code",
   "execution_count": 7,
   "outputs": [],
   "source": [
    "# An example of how we can run it\n",
    "graph.run_enhanced_community_detection(initial_guess=\"common-neigh-weak\",\n",
    "                                       num_sim=4)\n",
    "print(\"Aglomerative solution\", graph.solution)\n",
    "# for the fixed clusters one\n",
    "graph.run_enhanced_community_detection(method=\"fixed-clusters\",\n",
    "                                       num_clusters=4,\n",
    "                                       initial_guess=\"common-neigh-weak\",\n",
    "                                       num_sim=4)\n",
    "print(\"Fixed clusters solution\", graph.solution)"
   ],
   "metadata": {
    "collapsed": false,
    "pycharm": {
     "name": "#%%\n"
    }
   }
  },
  {
   "cell_type": "markdown",
   "source": [
    "## Continuous Community Detection"
   ],
   "metadata": {
    "collapsed": false,
    "pycharm": {
     "name": "#%% md\n"
    }
   }
  },
  {
   "cell_type": "markdown",
   "source": [
    "Continuos community detection has to be used when your graph has continuos weights.\n",
    "It requires integration then it is way slower."
   ],
   "metadata": {
    "collapsed": false,
    "pycharm": {
     "name": "#%% md\n"
    }
   }
  },
  {
   "cell_type": "code",
   "execution_count": 7,
   "outputs": [],
   "source": [
    "# An example of how we can run it\n",
    "graph.run_continuous_community_detection(initial_guess=\"common-neigh-weak\",\n",
    "                                         num_sim=3)\n",
    "print(\"Aglomerative solution\", graph.solution)\n",
    "# for the fixed clusters one\n",
    "graph.run_enhanced_community_detection(method=\"fixed-clusters\",\n",
    "                                       num_clusters=5,\n",
    "                                       initial_guess=\"common-neigh-weak\",\n",
    "                                       num_sim=4)\n",
    "print(\"Fixed clusters solution\", graph.solution)"
   ],
   "metadata": {
    "collapsed": false,
    "pycharm": {
     "name": "#%%\n"
    }
   }
  },
  {
   "cell_type": "code",
   "execution_count": 7,
   "outputs": [],
   "source": [],
   "metadata": {
    "collapsed": false,
    "pycharm": {
     "name": "#%%\n"
    }
   }
  },
  {
   "cell_type": "code",
   "execution_count": null,
   "outputs": [],
   "source": [],
   "metadata": {
    "collapsed": false,
    "pycharm": {
     "name": "#%%\n"
    }
   }
  }
 ],
 "metadata": {
  "kernelspec": {
   "display_name": "Python 3",
   "language": "python",
   "name": "python3"
  },
  "language_info": {
   "codemirror_mode": {
    "name": "ipython",
    "version": 2
   },
   "file_extension": ".py",
   "mimetype": "text/x-python",
   "name": "python",
   "nbconvert_exporter": "python",
   "pygments_lexer": "ipython2",
   "version": "2.7.6"
  }
 },
 "nbformat": 4,
 "nbformat_minor": 0
}